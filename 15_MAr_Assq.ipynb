{
 "cells": [
  {
   "cell_type": "markdown",
   "id": "6548aeb9",
   "metadata": {},
   "source": [
    "Ans.1:-   \n",
    "i. Artificial Intelligence is part of computer science which peform task which typically require human Intelligence. AI is interdeciplinary science which has multiple approaches like Machine learning, Deeep learning.   \n",
    "ii.  Machine learning is the subset of AI, uses statistical data to perform the prediction.\n",
    "There are four types of ML.   \n",
    "i. Supervised   \n",
    "ii. Unsupervised      \n",
    "iii. Semisupervised   \n",
    "iv. Reinforcement      "
   ]
  },
  {
   "cell_type": "markdown",
   "id": "a76450a5",
   "metadata": {},
   "source": [
    "Ans.2:-    \n",
    "Supervised learning - Type of machine learning where input data processed in a model, it provides output parameters. \n",
    "Ex - predict final sales based on advertisement parameter, total penson benefit of employee based on data like no of years of service, earnings, type of employment etc.   \n",
    "Two types of supervised Learning -     \n",
    "i. Classification   \n",
    "ii. Regression    "
   ]
  },
  {
   "cell_type": "markdown",
   "id": "adbd2062",
   "metadata": {},
   "source": [
    "Ans.3:-   \n",
    "Unsupervised learning - Types of machine learning where machine learn without supervision. It does not provide any output.\n",
    "Machine will predicts similar outcome or, cluster.\n",
    "Ex - Listener group listening diff category oos songs.. party, travel,romantic, sad etc. "
   ]
  },
  {
   "cell_type": "markdown",
   "id": "76ce8662",
   "metadata": {},
   "source": [
    "Ans.4 -    \n",
    "AI is enables machines to learn data and take decision that need human intelligence but without any manual interventions. ML is subset of AI, whichh uses data to predict the output. Dl is a part of ML, it implements Artificial Nueral network which proocesses the data into multiple layers between input and output. DS is combiationof all, AI, ML and DL. It is collecting, analysing, interpeting data and make decision. "
   ]
  },
  {
   "cell_type": "markdown",
   "id": "dce4a266",
   "metadata": {},
   "source": [
    "Ans. 5 -   \n",
    "Main difference is the output of machine post each type of learning. in case of supervised, machine will predicts specific. On unsupervised learning, machine will predicts cluster, group. Semi supervised is the combination of both. Machine will predict group, then provides option for each group"
   ]
  },
  {
   "cell_type": "markdown",
   "id": "077b4171",
   "metadata": {},
   "source": [
    "Ans.6 -    \n",
    "Train is the set of data which is used to train and make model learn the features and character of data set. Model will learn all senarios of that given data set. Test is the set of data used to check the performance of the model. we will test how model predict the accurate sample. Validate is set of data used to test final prediction of the model.\n",
    "Ex - Let's we used data of elephant, height, weight, body structure to train machine. Then we test with all combination of animals to check machine  predicts animal is elephant or, not. Validation is final performance of machine post testing on normal senario."
   ]
  },
  {
   "cell_type": "markdown",
   "id": "d3428279",
   "metadata": {},
   "source": [
    "Ans.7 -\n",
    "Using unsupervised learning, we find out different group of  data. Out of each group which will behave \n",
    "significantly different then that will be a scope for anomaly detection.  "
   ]
  },
  {
   "cell_type": "markdown",
   "id": "469794fa",
   "metadata": {},
   "source": [
    "Ans.8 - Commonly used supervised learning algorithms are linear regression, logistic regression, decision tree. Similarly unsupervised algorithms are hierarchical culsturing, K mean culstering."
   ]
  },
  {
   "cell_type": "code",
   "execution_count": null,
   "id": "0f52b71a",
   "metadata": {},
   "outputs": [],
   "source": []
  }
 ],
 "metadata": {
  "kernelspec": {
   "display_name": "Python 3",
   "language": "python",
   "name": "python3"
  },
  "language_info": {
   "codemirror_mode": {
    "name": "ipython",
    "version": 3
   },
   "file_extension": ".py",
   "mimetype": "text/x-python",
   "name": "python",
   "nbconvert_exporter": "python",
   "pygments_lexer": "ipython3",
   "version": "3.8.8"
  }
 },
 "nbformat": 4,
 "nbformat_minor": 5
}
